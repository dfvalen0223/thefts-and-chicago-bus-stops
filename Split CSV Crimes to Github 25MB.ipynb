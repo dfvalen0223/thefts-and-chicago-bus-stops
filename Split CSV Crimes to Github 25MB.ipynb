{
 "cells": [
  {
   "cell_type": "code",
   "execution_count": 2,
   "metadata": {
    "ExecuteTime": {
     "end_time": "2020-02-28T17:15:28.278330Z",
     "start_time": "2020-02-28T17:15:27.661396Z"
    }
   },
   "outputs": [],
   "source": [
    "import pandas as pd\n",
    "import numpy as np"
   ]
  },
  {
   "cell_type": "code",
   "execution_count": 3,
   "metadata": {
    "ExecuteTime": {
     "end_time": "2020-02-28T17:15:29.070948Z",
     "start_time": "2020-02-28T17:15:28.279823Z"
    }
   },
   "outputs": [],
   "source": [
    "## Load dataset\n",
    "# db = pd.read_csv(\".//input//Crimes_-_2001_to_present.csv\", sep=\",\", dtype='unicode')\n",
    "db = pd.read_csv(\".//input/db_thefts.csv\")"
   ]
  },
  {
   "cell_type": "code",
   "execution_count": 4,
   "metadata": {
    "ExecuteTime": {
     "end_time": "2020-02-28T17:16:36.589504Z",
     "start_time": "2020-02-28T17:16:30.455743Z"
    },
    "scrolled": true
   },
   "outputs": [],
   "source": [
    "## Split dataset\n",
    "\n",
    "old = 0\n",
    "cf = 1\n",
    "# parts = 70\n",
    "parts = 4\n",
    "thd = int(np.round(len(db)/parts, 0))\n",
    "\n",
    "for i in range(0, len(db), thd):    \n",
    "    # db.iloc[i:i + thd].to_csv(\".//input//Crimes_2001_csvs//Crimes_2001_csv_\" + str(cf) + \".csv\"\n",
    "    db.iloc[i:i + thd].to_csv(\".//input//db_thefts_\" + str(cf) + \".csv\"\n",
    "                              , index_label = False\n",
    "                             , float_format='%g')\n",
    "    cf = cf + 1\n",
    "    "
   ]
  },
  {
   "cell_type": "code",
   "execution_count": 10,
   "metadata": {
    "ExecuteTime": {
     "end_time": "2020-02-28T17:20:26.479987Z",
     "start_time": "2020-02-28T17:20:25.582616Z"
    }
   },
   "outputs": [],
   "source": [
    "## Join dataset\n",
    "\n",
    "def loaddbTH():\n",
    "    # prefix = \".//input//Crimes_2001_csvs//Crimes_2001_csv_\"\n",
    "    prefix = \".//input//db_thefts_\"\n",
    "    cf = 1\n",
    "    # parts = 70\n",
    "    parts = 4\n",
    "\n",
    "    for cf in range(0, parts):\n",
    "        tmp = pd.read_csv(prefix + str(cf + 1) + \".csv\") \n",
    "        if cf == 0:\n",
    "            db2 = tmp\n",
    "        else:\n",
    "            tmp = [db2, tmp]\n",
    "            db2 = pd.concat(tmp)\n",
    "        del tmp\n",
    "    db2 = db2.set_index('Date')\n",
    "    return db2\n",
    "dbTH = loaddbTH()"
   ]
  },
  {
   "cell_type": "code",
   "execution_count": 12,
   "metadata": {
    "ExecuteTime": {
     "end_time": "2020-02-28T17:20:30.277373Z",
     "start_time": "2020-02-28T17:20:30.265186Z"
    }
   },
   "outputs": [
    {
     "data": {
      "text/html": [
       "<div>\n",
       "<style scoped>\n",
       "    .dataframe tbody tr th:only-of-type {\n",
       "        vertical-align: middle;\n",
       "    }\n",
       "\n",
       "    .dataframe tbody tr th {\n",
       "        vertical-align: top;\n",
       "    }\n",
       "\n",
       "    .dataframe thead th {\n",
       "        text-align: right;\n",
       "    }\n",
       "</style>\n",
       "<table border=\"1\" class=\"dataframe\">\n",
       "  <thead>\n",
       "    <tr style=\"text-align: right;\">\n",
       "      <th></th>\n",
       "      <th>Latitude</th>\n",
       "      <th>Longitude</th>\n",
       "    </tr>\n",
       "    <tr>\n",
       "      <th>Date</th>\n",
       "      <th></th>\n",
       "      <th></th>\n",
       "    </tr>\n",
       "  </thead>\n",
       "  <tbody>\n",
       "    <tr>\n",
       "      <th>2019-05-15 22:30:00</th>\n",
       "      <td>41.8975</td>\n",
       "      <td>-87.6931</td>\n",
       "    </tr>\n",
       "    <tr>\n",
       "      <th>2019-04-27 11:00:00</th>\n",
       "      <td>41.6862</td>\n",
       "      <td>-87.6519</td>\n",
       "    </tr>\n",
       "    <tr>\n",
       "      <th>2019-05-14 10:00:00</th>\n",
       "      <td>41.8526</td>\n",
       "      <td>-87.7124</td>\n",
       "    </tr>\n",
       "    <tr>\n",
       "      <th>2019-05-04 14:00:00</th>\n",
       "      <td>41.8976</td>\n",
       "      <td>-87.6232</td>\n",
       "    </tr>\n",
       "    <tr>\n",
       "      <th>2019-05-19 13:30:00</th>\n",
       "      <td>41.7814</td>\n",
       "      <td>-87.6084</td>\n",
       "    </tr>\n",
       "    <tr>\n",
       "      <th>...</th>\n",
       "      <td>...</td>\n",
       "      <td>...</td>\n",
       "    </tr>\n",
       "    <tr>\n",
       "      <th>2015-03-17 22:00:00</th>\n",
       "      <td>41.8523</td>\n",
       "      <td>-87.6361</td>\n",
       "    </tr>\n",
       "    <tr>\n",
       "      <th>2015-03-18 19:22:00</th>\n",
       "      <td>42.0152</td>\n",
       "      <td>-87.6973</td>\n",
       "    </tr>\n",
       "    <tr>\n",
       "      <th>2015-03-13 23:00:00</th>\n",
       "      <td>42.0176</td>\n",
       "      <td>-87.6720</td>\n",
       "    </tr>\n",
       "    <tr>\n",
       "      <th>2015-03-18 16:45:00</th>\n",
       "      <td>41.8423</td>\n",
       "      <td>-87.6544</td>\n",
       "    </tr>\n",
       "    <tr>\n",
       "      <th>2015-03-18 19:45:00</th>\n",
       "      <td>41.8847</td>\n",
       "      <td>-87.6279</td>\n",
       "    </tr>\n",
       "  </tbody>\n",
       "</table>\n",
       "<p>1342579 rows × 2 columns</p>\n",
       "</div>"
      ],
      "text/plain": [
       "                     Latitude  Longitude\n",
       "Date                                    \n",
       "2019-05-15 22:30:00   41.8975   -87.6931\n",
       "2019-04-27 11:00:00   41.6862   -87.6519\n",
       "2019-05-14 10:00:00   41.8526   -87.7124\n",
       "2019-05-04 14:00:00   41.8976   -87.6232\n",
       "2019-05-19 13:30:00   41.7814   -87.6084\n",
       "...                       ...        ...\n",
       "2015-03-17 22:00:00   41.8523   -87.6361\n",
       "2015-03-18 19:22:00   42.0152   -87.6973\n",
       "2015-03-13 23:00:00   42.0176   -87.6720\n",
       "2015-03-18 16:45:00   41.8423   -87.6544\n",
       "2015-03-18 19:45:00   41.8847   -87.6279\n",
       "\n",
       "[1342579 rows x 2 columns]"
      ]
     },
     "execution_count": 12,
     "metadata": {},
     "output_type": "execute_result"
    }
   ],
   "source": [
    "dbTH"
   ]
  },
  {
   "cell_type": "code",
   "execution_count": null,
   "metadata": {},
   "outputs": [],
   "source": []
  }
 ],
 "metadata": {
  "kernelspec": {
   "display_name": "Python 3",
   "language": "python",
   "name": "python3"
  },
  "language_info": {
   "codemirror_mode": {
    "name": "ipython",
    "version": 3
   },
   "file_extension": ".py",
   "mimetype": "text/x-python",
   "name": "python",
   "nbconvert_exporter": "python",
   "pygments_lexer": "ipython3",
   "version": "3.8.0"
  }
 },
 "nbformat": 4,
 "nbformat_minor": 2
}
