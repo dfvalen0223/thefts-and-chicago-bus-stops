{
 "cells": [
  {
   "cell_type": "code",
   "execution_count": 13,
   "metadata": {
    "ExecuteTime": {
     "end_time": "2020-02-28T18:40:44.518482Z",
     "start_time": "2020-02-28T18:40:44.510824Z"
    }
   },
   "outputs": [],
   "source": [
    "import pandas as pd\n",
    "import numpy as np"
   ]
  },
  {
   "cell_type": "code",
   "execution_count": 32,
   "metadata": {
    "ExecuteTime": {
     "end_time": "2020-02-28T19:09:11.531537Z",
     "start_time": "2020-02-28T19:04:11.376255Z"
    }
   },
   "outputs": [
    {
     "name": "stderr",
     "output_type": "stream",
     "text": [
      "<ipython-input-32-fbfcfa90b693>:7: SettingWithCopyWarning: \n",
      "A value is trying to be set on a copy of a slice from a DataFrame.\n",
      "Try using .loc[row_indexer,col_indexer] = value instead\n",
      "\n",
      "See the caveats in the documentation: http://pandas.pydata.org/pandas-docs/stable/user_guide/indexing.html#returning-a-view-versus-a-copy\n",
      "  dbTH['Date'] = pd.to_datetime(dbTH['Date'])\n"
     ]
    }
   ],
   "source": [
    "## Load dataset\n",
    "db = pd.read_csv(\".//input//Crimes_-_2001_to_present.csv\", sep=\",\", dtype='unicode')\n",
    "# db = pd.read_csv(\".//input/db_thefts.csv\")\n",
    "## Filter thefts of crime dataset\n",
    "dbTH = db[db['Primary Type'] == 'THEFT']\n",
    "## Set date as index of thefts dataset\n",
    "dbTH['Date'] = pd.to_datetime(dbTH['Date'])\n",
    "dbTH = dbTH.dropna()\n",
    "\n",
    "dbTH.Latitude = dbTH.Latitude.astype('float64')\n",
    "dbTH.Longitude = dbTH.Longitude.astype('float64') \n",
    "\n",
    "db = pd.concat([db.Date, db.Latitude, db.Longitude, db.Description], axis=1)\n",
    "db = db.set_index('Date')"
   ]
  },
  {
   "cell_type": "code",
   "execution_count": 35,
   "metadata": {
    "ExecuteTime": {
     "end_time": "2020-02-28T19:12:38.874681Z",
     "start_time": "2020-02-28T19:12:22.619823Z"
    },
    "scrolled": true
   },
   "outputs": [],
   "source": [
    "## Split dataset\n",
    "\n",
    "old = 0\n",
    "cf = 1\n",
    "# parts = 70\n",
    "parts = 25\n",
    "thd = int(np.round(len(db)/parts, 0))\n",
    "\n",
    "for i in range(0, len(db), thd):    \n",
    "    # db.iloc[i:i + thd].to_csv(\".//input//Crimes_2001_csvs//Crimes_2001_csv_\" + str(cf) + \".csv\"\n",
    "    db.iloc[i:i + thd].to_csv(\".//input//db_thefts_\" + str(cf) + \".csv\"\n",
    "                              , index_label = 'Date'\n",
    "                             , float_format='%g')\n",
    "    cf = cf + 1\n",
    "    "
   ]
  },
  {
   "cell_type": "code",
   "execution_count": 36,
   "metadata": {
    "ExecuteTime": {
     "end_time": "2020-02-28T19:13:12.908676Z",
     "start_time": "2020-02-28T19:12:43.755747Z"
    }
   },
   "outputs": [],
   "source": [
    "## Join dataset\n",
    "\n",
    "def loaddbTH():\n",
    "    # prefix = \".//input//Crimes_2001_csvs//Crimes_2001_csv_\"\n",
    "    prefix = \".//input//db_thefts_\"\n",
    "    cf = 1\n",
    "    # parts = 70\n",
    "    parts = 25\n",
    "\n",
    "    for cf in range(0, parts):\n",
    "        tmp = pd.read_csv(prefix + str(cf + 1) + \".csv\") \n",
    "        if cf == 0:\n",
    "            db2 = tmp\n",
    "        else:\n",
    "            tmp = [db2, tmp]\n",
    "            db2 = pd.concat(tmp)\n",
    "        del tmp\n",
    "    db2 = db2.set_index('Date')\n",
    "    return db2\n",
    "dbTH = loaddbTH()"
   ]
  },
  {
   "cell_type": "code",
   "execution_count": null,
   "metadata": {},
   "outputs": [],
   "source": []
  }
 ],
 "metadata": {
  "kernelspec": {
   "display_name": "Python 3",
   "language": "python",
   "name": "python3"
  },
  "language_info": {
   "codemirror_mode": {
    "name": "ipython",
    "version": 3
   },
   "file_extension": ".py",
   "mimetype": "text/x-python",
   "name": "python",
   "nbconvert_exporter": "python",
   "pygments_lexer": "ipython3",
   "version": "3.8.0"
  }
 },
 "nbformat": 4,
 "nbformat_minor": 2
}
